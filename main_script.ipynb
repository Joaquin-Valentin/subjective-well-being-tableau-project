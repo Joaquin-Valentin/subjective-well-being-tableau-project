{
  "nbformat": 4,
  "nbformat_minor": 0,
  "metadata": {
    "colab": {
      "provenance": []
    },
    "kernelspec": {
      "name": "python3",
      "display_name": "Python 3"
    },
    "language_info": {
      "name": "python"
    }
  },
  "cells": [
    {
      "cell_type": "code",
      "execution_count": null,
      "metadata": {
        "colab": {
          "base_uri": "https://localhost:8080/",
          "height": 17
        },
        "id": "YdT9qnT8q9TU",
        "outputId": "5eb2ca31-d4c2-4e28-cdad-e6fa693f38bc"
      },
      "outputs": [
        {
          "output_type": "display_data",
          "data": {
            "text/html": [
              "        <script type=\"text/javascript\">\n",
              "        window.PlotlyConfig = {MathJaxConfig: 'local'};\n",
              "        if (window.MathJax) {MathJax.Hub.Config({SVG: {font: \"STIX-Web\"}});}\n",
              "        if (typeof require !== 'undefined') {\n",
              "        require.undef(\"plotly\");\n",
              "        requirejs.config({\n",
              "            paths: {\n",
              "                'plotly': ['https://cdn.plot.ly/plotly-2.8.3.min']\n",
              "            }\n",
              "        });\n",
              "        require(['plotly'], function(Plotly) {\n",
              "            window._Plotly = Plotly;\n",
              "        });\n",
              "        }\n",
              "        </script>\n",
              "        "
            ]
          },
          "metadata": {}
        }
      ],
      "source": [
        "import numpy as np \n",
        "import pandas as pd \n",
        "\n",
        "import matplotlib.pyplot as plt \n",
        "plt.style.use(\"seaborn-whitegrid\")\n",
        "\n",
        "import seaborn as sns \n",
        "\n",
        "from plotly.offline import init_notebook_mode, iplot, plot\n",
        "import plotly as py\n",
        "init_notebook_mode(connected=True)\n",
        "\n",
        "import plotly.graph_objs as go\n",
        "\n",
        "# word cloud library\n",
        "from wordcloud import WordCloud\n",
        "\n",
        "from collections import Counter\n",
        "\n",
        "import warnings # don't show warnings\n",
        "warnings.filterwarnings(\"ignore\")"
      ]
    },
    {
      "cell_type": "code",
      "source": [
        "world_happiness_report_2015 = pd.read_csv(\"2015.csv\")\n",
        "world_happiness_report_2016 = pd.read_csv(\"2016.csv\")\n",
        "world_happiness_report_2017 = pd.read_csv(\"2017.csv\")\n",
        "world_happiness_report_2018 = pd.read_csv(\"2018.csv\")\n",
        "world_happiness_report_2019 = pd.read_csv(\"2019.csv\")\n",
        "world_happiness_report_2020 = pd.read_csv(\"2020.csv\")\n",
        "world_happiness_report_2021 = pd.read_csv(\"2021.csv\")\n",
        "world_happiness_report_2022 = pd.read_csv(\"2022.csv\")"
      ],
      "metadata": {
        "id": "VuCLlwDyvrzl"
      },
      "execution_count": null,
      "outputs": []
    },
    {
      "cell_type": "code",
      "source": [
        "# Renaming columns"
      ],
      "metadata": {
        "id": "l8phHEYrYLp6"
      },
      "execution_count": null,
      "outputs": []
    },
    {
      "cell_type": "code",
      "source": [
        "world_happiness_report_2015.rename(columns={\"Happiness Rank\": \"Overall rank\", \"Economy (GDP per Capita)\": \"GDP per capita\", \"Health (Life Expectancy)\": \"Life expectancy\"}, inplace=True)"
      ],
      "metadata": {
        "id": "D7PDQ5meA2Li"
      },
      "execution_count": null,
      "outputs": []
    },
    {
      "cell_type": "code",
      "source": [
        "world_happiness_report_2016.rename(columns={\"Happiness Rank\": \"Overall rank\", \"Economy (GDP per Capita)\": \"GDP per capita\", \"Health (Life Expectancy)\": \"Life expectancy\"}, inplace=True)"
      ],
      "metadata": {
        "id": "vlCNGBEVA3W4"
      },
      "execution_count": null,
      "outputs": []
    },
    {
      "cell_type": "code",
      "source": [
        "world_happiness_report_2016.columns"
      ],
      "metadata": {
        "colab": {
          "base_uri": "https://localhost:8080/"
        },
        "id": "qWbaxSPhCC2q",
        "outputId": "aab2826a-1bb6-4a35-af0f-bb790d1d10f1"
      },
      "execution_count": null,
      "outputs": [
        {
          "output_type": "execute_result",
          "data": {
            "text/plain": [
              "Index(['Country', 'Region', 'Overall rank', 'Happiness Score',\n",
              "       'Lower Confidence Interval', 'Upper Confidence Interval',\n",
              "       'GDP per capita', 'Family', 'Life expectancy', 'Freedom',\n",
              "       'Trust (Government Corruption)', 'Generosity', 'Dystopia Residual'],\n",
              "      dtype='object')"
            ]
          },
          "metadata": {},
          "execution_count": 5
        }
      ]
    },
    {
      "cell_type": "code",
      "source": [
        "world_happiness_report_2017.rename(columns={\"Happiness.Rank\": \"Overall rank\", \"Happiness.Score\":\"Happiness Score\",\"Whisker.high\":\"Upper Confidence Interval\",\n",
        "                                            \"Whisker.low\":\"Lower Confidence Interval\",\"Economy..GDP.per.Capita.\": \"GDP per capita\", \"Health..Life.Expectancy.\": \"Life expectancy\",\n",
        "                                            \"Trust..Government.Corruption.\":\"Trust (Government Corruption)\", \"Dystopia.Residual\":\"Dystopia Residual\"}, inplace=True)"
      ],
      "metadata": {
        "id": "9ekBvXA7A3Y_"
      },
      "execution_count": null,
      "outputs": []
    },
    {
      "cell_type": "code",
      "source": [
        "world_happiness_report_2018.rename(columns={\"Country or region\": \"Country\", \"Score\":\"Happiness Score\",\"Social support\": \"Family\", \"Health life expectancy.\": \"Life expectancy\",\n",
        "                                            \"Perceptions of corruption\":\"Trust (Government Corruption)\", \"Freedom to make life choices\":\"Freedom\"}, inplace=True)"
      ],
      "metadata": {
        "id": "SMIueTswDpvX"
      },
      "execution_count": null,
      "outputs": []
    },
    {
      "cell_type": "code",
      "source": [
        "world_happiness_report_2018.rename(columns={\"Healthy life expectancy\": \"Life expectancy\"}, inplace=True)"
      ],
      "metadata": {
        "id": "My6Lj3jNHjfA"
      },
      "execution_count": null,
      "outputs": []
    },
    {
      "cell_type": "code",
      "source": [
        "world_happiness_report_2019.rename(columns={\"Healthy life expectancy\": \"Life expectancy\"}, inplace=True)"
      ],
      "metadata": {
        "id": "phMDjF0GH5H3"
      },
      "execution_count": null,
      "outputs": []
    },
    {
      "cell_type": "code",
      "source": [
        "world_happiness_report_2019.rename(columns={\"Country or region\": \"Country\", \"Score\":\"Happiness Score\",\"Social support\": \"Family\", \"Health life expectancy.\": \"Life expectancy\",\n",
        "                                            \"Perceptions of corruption\":\"Trust (Government Corruption)\", \"Freedom to make life choices\":\"Freedom\"}, inplace=True)"
      ],
      "metadata": {
        "id": "cj1r3hZvA3jn"
      },
      "execution_count": null,
      "outputs": []
    },
    {
      "cell_type": "code",
      "source": [
        "world_happiness_report_2020.drop(['Ladder score in Dystopia',\n",
        "       'Explained by: Log GDP per capita', 'Explained by: Social support',\n",
        "       'Explained by: Healthy life expectancy',\n",
        "       'Explained by: Freedom to make life choices',\n",
        "       'Explained by: Generosity', 'Explained by: Perceptions of corruption'], axis=1, inplace=True)\n"
      ],
      "metadata": {
        "id": "IaLjw0h9A3lX"
      },
      "execution_count": null,
      "outputs": []
    },
    {
      "cell_type": "code",
      "source": [
        "world_happiness_report_2020.rename(columns={\"Country name\": \"Country\", \"Regional indicator\":\"Region\", \"Ladder score\":\"Happiness Score\", \"upperwhisker\":\"Upper Confidence Interval\",\n",
        "                                            \"lowerwhisker\":\"Lower Confidence Interval\", \"Logged GDP per capita\": \"GDP per capita\",\"Social support\": \"Family\", \n",
        "                                            \"Healthy life expectancy\": \"Life expectancy\",\"Perceptions of corruption\":\"Trust (Government Corruption)\",\n",
        "                                            \"Freedom to make life choices\":\"Freedom\", \"Dystopia + residual\":\"Dystopia Residual\"}, inplace=True)"
      ],
      "metadata": {
        "id": "qC8FfmbtA3oA"
      },
      "execution_count": null,
      "outputs": []
    },
    {
      "cell_type": "code",
      "source": [
        "world_happiness_report_2021.drop(['Ladder score in Dystopia',\n",
        "       'Explained by: Log GDP per capita', 'Explained by: Social support',\n",
        "       'Explained by: Healthy life expectancy',\n",
        "       'Explained by: Freedom to make life choices',\n",
        "       'Explained by: Generosity', 'Explained by: Perceptions of corruption'], axis=1, inplace=True)\n",
        "\n"
      ],
      "metadata": {
        "id": "86nYtrqGIXnw"
      },
      "execution_count": null,
      "outputs": []
    },
    {
      "cell_type": "code",
      "source": [
        "world_happiness_report_2021.rename(columns={\"Country name\": \"Country\", \"Regional indicator\":\"Region\", \"Ladder score\":\"Happiness Score\", \"upperwhisker\":\"Upper Confidence Interval\",\n",
        "                                            \"lowerwhisker\":\"Lower Confidence Interval\", \"Logged GDP per capita\": \"GDP per capita\",\"Social support\": \"Family\", \n",
        "                                            \"Healthy life expectancy\": \"Life expectancy\",\"Perceptions of corruption\":\"Trust (Government Corruption)\",\n",
        "                                            \"Freedom to make life choices\":\"Freedom\", \"Dystopia + residual\":\"Dystopia Residual\"}, inplace=True)"
      ],
      "metadata": {
        "id": "HEorLp4WA3qP"
      },
      "execution_count": null,
      "outputs": []
    },
    {
      "cell_type": "code",
      "source": [
        "world_happiness_report_2022.rename(columns={\"Country name\": \"Country\", \"Ladder score\":\"Happiness Score\", \"Whisker-high\":\"Upper Confidence Interval\",\n",
        "                                            \"Whisker-low\":\"Lower Confidence Interval\", \"Explained by: GDP per capita\": \"GDP per capita\",\"Explained by: Social support\": \"Family\", \n",
        "                                            \"Explained by: Healthy life expectancy\": \"Life expectancy\",\"Explained by: Perceptions of corruption\":\"Trust (Government Corruption)\",\n",
        "                                            \"Explained by: Freedom to make life choices\":\"Freedom\", \"Explained by: Generosity\":\"Generosity\"}, inplace=True)"
      ],
      "metadata": {
        "id": "Tq0m6_IdA3sH"
      },
      "execution_count": null,
      "outputs": []
    },
    {
      "cell_type": "code",
      "source": [
        "#world_happiness_report_2022.rename(columns={\"Country\": \"Country name\"}, inplace=True)\n",
        "#world_happiness_report_2022.rename(columns={\"Happiness score\": \"Ladder score\"}, inplace=True)\n",
        "world_happiness_report_2022.rename(columns={\"RANK\": \"Overall rank\"}, inplace=True)"
      ],
      "metadata": {
        "id": "aH_ie5oKUkIp"
      },
      "execution_count": null,
      "outputs": []
    },
    {
      "cell_type": "code",
      "source": [
        "world_happiness_report_2020[\"Overall rank\"] = (world_happiness_report_2020.index + 1)"
      ],
      "metadata": {
        "id": "D9PIlVqCwoDa"
      },
      "execution_count": null,
      "outputs": []
    },
    {
      "cell_type": "code",
      "source": [
        "world_happiness_report_2021[\"Overall rank\"] = (world_happiness_report_2021.index + 1)"
      ],
      "metadata": {
        "id": "P2u2XyDDxJ7d"
      },
      "execution_count": null,
      "outputs": []
    },
    {
      "cell_type": "code",
      "source": [
        "world_happiness_report_2022 = world_happiness_report_2022.dropna()"
      ],
      "metadata": {
        "id": "Eaup2eDyzDjf"
      },
      "execution_count": null,
      "outputs": []
    },
    {
      "cell_type": "code",
      "source": [
        "world_happiness_report_2022.rename(columns={\"Happiness score\": \"Happiness Score\"}, inplace=True)"
      ],
      "metadata": {
        "id": "wmVnzsvonRNl"
      },
      "execution_count": null,
      "outputs": []
    },
    {
      "cell_type": "code",
      "source": [
        "world_happiness_report_2022.dtypes"
      ],
      "metadata": {
        "colab": {
          "base_uri": "https://localhost:8080/"
        },
        "id": "APNDoGmOzpdg",
        "outputId": "70d98b43-4fe1-4dfa-d457-ff34a13ac54f"
      },
      "execution_count": null,
      "outputs": [
        {
          "output_type": "execute_result",
          "data": {
            "text/plain": [
              "Overall rank                      int64\n",
              "Country                          object\n",
              "Happiness Score                  object\n",
              "Upper Confidence Interval        object\n",
              "Lower Confidence Interval        object\n",
              "Dystopia (1.83) + residual       object\n",
              "GDP per capita                   object\n",
              "Family                           object\n",
              "Life expectancy                  object\n",
              "Freedom                          object\n",
              "Generosity                       object\n",
              "Trust (Government Corruption)    object\n",
              "dtype: object"
            ]
          },
          "metadata": {},
          "execution_count": 21
        }
      ]
    },
    {
      "cell_type": "code",
      "source": [
        "world_happiness_report_2022.columns"
      ],
      "metadata": {
        "colab": {
          "base_uri": "https://localhost:8080/"
        },
        "id": "nf-PFQ0n0BYb",
        "outputId": "c03849ec-ffbe-4064-98a6-fe94d3d84a71"
      },
      "execution_count": null,
      "outputs": [
        {
          "output_type": "execute_result",
          "data": {
            "text/plain": [
              "Index(['Overall rank', 'Country', 'Happiness Score',\n",
              "       'Upper Confidence Interval', 'Lower Confidence Interval',\n",
              "       'Dystopia (1.83) + residual', 'GDP per capita', 'Family',\n",
              "       'Life expectancy', 'Freedom', 'Generosity',\n",
              "       'Trust (Government Corruption)'],\n",
              "      dtype='object')"
            ]
          },
          "metadata": {},
          "execution_count": 22
        }
      ]
    },
    {
      "cell_type": "code",
      "source": [
        "#world_happiness_report_2022.rename(columns={\"Ladder score\":\"Happiness score\",\"Country name\": \"Country\"}, inplace=True)"
      ],
      "metadata": {
        "id": "s3j5fIEZeTqM"
      },
      "execution_count": null,
      "outputs": []
    },
    {
      "cell_type": "code",
      "source": [
        "world_happiness_report_2022[['Happiness Score',\n",
        "       'Upper Confidence Interval', 'Lower Confidence Interval',\n",
        "       'Dystopia (1.83) + residual', 'GDP per capita', 'Family',\n",
        "       'Life expectancy', 'Freedom', 'Generosity',\n",
        "       'Trust (Government Corruption)']] = world_happiness_report_2022[['Happiness Score',\n",
        "       'Upper Confidence Interval', 'Lower Confidence Interval',\n",
        "       'Dystopia (1.83) + residual', 'GDP per capita', 'Family',\n",
        "       'Life expectancy', 'Freedom', 'Generosity',\n",
        "       'Trust (Government Corruption)']].apply(lambda x: x.str.replace(',','.'))\n"
      ],
      "metadata": {
        "id": "EyzaRYAyVGXD"
      },
      "execution_count": null,
      "outputs": []
    },
    {
      "cell_type": "code",
      "source": [
        "world_happiness_report_2022[['Happiness Score',\n",
        "       'Upper Confidence Interval', 'Lower Confidence Interval',\n",
        "       'Dystopia (1.83) + residual', 'GDP per capita', 'Family',\n",
        "       'Life expectancy', 'Freedom', 'Generosity',\n",
        "       'Trust (Government Corruption)']] = world_happiness_report_2022[['Happiness Score',\n",
        "       'Upper Confidence Interval', 'Lower Confidence Interval',\n",
        "       'Dystopia (1.83) + residual', 'GDP per capita', 'Family',\n",
        "       'Life expectancy', 'Freedom', 'Generosity',\n",
        "       'Trust (Government Corruption)']].astype(float)"
      ],
      "metadata": {
        "id": "xg-sL1q3Xe96"
      },
      "execution_count": null,
      "outputs": []
    },
    {
      "cell_type": "code",
      "source": [
        "world_happiness_report_2022.dtypes"
      ],
      "metadata": {
        "colab": {
          "base_uri": "https://localhost:8080/"
        },
        "id": "YD6yumHVXnDH",
        "outputId": "c31b9382-5ded-4192-9e9c-dfc95ad467fa"
      },
      "execution_count": null,
      "outputs": [
        {
          "output_type": "execute_result",
          "data": {
            "text/plain": [
              "Overall rank                       int64\n",
              "Country                           object\n",
              "Happiness Score                  float64\n",
              "Upper Confidence Interval        float64\n",
              "Lower Confidence Interval        float64\n",
              "Dystopia (1.83) + residual       float64\n",
              "GDP per capita                   float64\n",
              "Family                           float64\n",
              "Life expectancy                  float64\n",
              "Freedom                          float64\n",
              "Generosity                       float64\n",
              "Trust (Government Corruption)    float64\n",
              "dtype: object"
            ]
          },
          "metadata": {},
          "execution_count": 25
        }
      ]
    },
    {
      "cell_type": "code",
      "source": [
        "firstgdp = world_happiness_report_2015['GDP per capita'].max()\n",
        "secondgdp = world_happiness_report_2016['GDP per capita'].max()\n",
        "thirdgdp = world_happiness_report_2017['GDP per capita'].max()\n",
        "fourthgdp = world_happiness_report_2018['GDP per capita'].max()\n",
        "fifthgdp = world_happiness_report_2019['GDP per capita'].max()\n",
        "sixthgdp = world_happiness_report_2019['GDP per capita'].max()\n",
        "\n",
        "np.mean([firstgdp, secondgdp, thirdgdp, fourthgdp, fifthgdp, sixthgdp])"
      ],
      "metadata": {
        "colab": {
          "base_uri": "https://localhost:8080/"
        },
        "id": "IPjnB9BSeyYM",
        "outputId": "27ef8fe2-27ff-447c-e87f-75aaf92ee8f2"
      },
      "execution_count": null,
      "outputs": [
        {
          "output_type": "execute_result",
          "data": {
            "text/plain": [
              "1.808242614339193"
            ]
          },
          "metadata": {},
          "execution_count": 26
        }
      ]
    },
    {
      "cell_type": "code",
      "source": [
        "from sklearn.preprocessing import MinMaxScaler\n",
        "\n",
        "# apply normalization techniques to every years GDP column\n",
        "\n",
        "world_happiness_report_2015['GDP per capita'] = MinMaxScaler().fit_transform(np.array(world_happiness_report_2015['GDP per capita']).reshape(-1,1))\n",
        "world_happiness_report_2016['GDP per capita'] = MinMaxScaler().fit_transform(np.array(world_happiness_report_2016['GDP per capita']).reshape(-1,1))\n",
        "world_happiness_report_2017['GDP per capita'] = MinMaxScaler().fit_transform(np.array(world_happiness_report_2017['GDP per capita']).reshape(-1,1))\n",
        "world_happiness_report_2018['GDP per capita'] = MinMaxScaler().fit_transform(np.array(world_happiness_report_2018['GDP per capita']).reshape(-1,1))\n",
        "world_happiness_report_2019['GDP per capita'] = MinMaxScaler().fit_transform(np.array(world_happiness_report_2019['GDP per capita']).reshape(-1,1))\n",
        "world_happiness_report_2020['GDP per capita'] = MinMaxScaler().fit_transform(np.array(world_happiness_report_2020['GDP per capita']).reshape(-1,1))\n",
        "world_happiness_report_2021['GDP per capita'] = MinMaxScaler().fit_transform(np.array(world_happiness_report_2021['GDP per capita']).reshape(-1,1))\n",
        "world_happiness_report_2022['GDP per capita'] = MinMaxScaler().fit_transform(np.array(world_happiness_report_2022['GDP per capita']).reshape(-1,1))"
      ],
      "metadata": {
        "id": "Zeaw9ts4gSWk"
      },
      "execution_count": null,
      "outputs": []
    },
    {
      "cell_type": "code",
      "source": [
        "# apply normalization techniques to every years' Life Expectancy column\n",
        "\n",
        "world_happiness_report_2015['Life expectancy'] = MinMaxScaler().fit_transform(np.array(world_happiness_report_2015['Life expectancy']).reshape(-1,1))\n",
        "world_happiness_report_2016['Life expectancy'] = MinMaxScaler().fit_transform(np.array(world_happiness_report_2016['Life expectancy']).reshape(-1,1))\n",
        "world_happiness_report_2017['Life expectancy'] = MinMaxScaler().fit_transform(np.array(world_happiness_report_2017['Life expectancy']).reshape(-1,1))\n",
        "world_happiness_report_2018['Life expectancy'] = MinMaxScaler().fit_transform(np.array(world_happiness_report_2018['Life expectancy']).reshape(-1,1))\n",
        "world_happiness_report_2019['Life expectancy'] = MinMaxScaler().fit_transform(np.array(world_happiness_report_2019['Life expectancy']).reshape(-1,1))\n",
        "world_happiness_report_2020['Life expectancy'] = MinMaxScaler().fit_transform(np.array(world_happiness_report_2020['Life expectancy']).reshape(-1,1))\n",
        "world_happiness_report_2021['Life expectancy'] = MinMaxScaler().fit_transform(np.array(world_happiness_report_2021['Life expectancy']).reshape(-1,1))\n",
        "world_happiness_report_2022['Life expectancy'] = MinMaxScaler().fit_transform(np.array(world_happiness_report_2022['Life expectancy']).reshape(-1,1))"
      ],
      "metadata": {
        "id": "Bb4jkXH0ac4w"
      },
      "execution_count": null,
      "outputs": []
    },
    {
      "cell_type": "code",
      "source": [
        "#normalizing social support - family\n",
        "\n",
        "world_happiness_report_2015['Family'] = MinMaxScaler().fit_transform(np.array(world_happiness_report_2015['Family']).reshape(-1,1))\n",
        "world_happiness_report_2016['Family'] = MinMaxScaler().fit_transform(np.array(world_happiness_report_2016['Family']).reshape(-1,1))\n",
        "world_happiness_report_2017['Family'] = MinMaxScaler().fit_transform(np.array(world_happiness_report_2017['Family']).reshape(-1,1))\n",
        "world_happiness_report_2018['Family'] = MinMaxScaler().fit_transform(np.array(world_happiness_report_2018['Family']).reshape(-1,1))\n",
        "world_happiness_report_2019['Family'] = MinMaxScaler().fit_transform(np.array(world_happiness_report_2019['Family']).reshape(-1,1))\n",
        "world_happiness_report_2020['Family'] = MinMaxScaler().fit_transform(np.array(world_happiness_report_2020['Family']).reshape(-1,1))\n",
        "world_happiness_report_2021['Family'] = MinMaxScaler().fit_transform(np.array(world_happiness_report_2021['Family']).reshape(-1,1))\n",
        "world_happiness_report_2022['Family'] = MinMaxScaler().fit_transform(np.array(world_happiness_report_2022['Family']).reshape(-1,1))"
      ],
      "metadata": {
        "id": "-OFX_F-WnjE_"
      },
      "execution_count": null,
      "outputs": []
    },
    {
      "cell_type": "code",
      "source": [
        "world_happiness_report_2015['Region'].value_counts()"
      ],
      "metadata": {
        "colab": {
          "base_uri": "https://localhost:8080/"
        },
        "id": "hEPmFgw3qCOz",
        "outputId": "506825b9-197d-4b09-8c4e-8ee0cf79297b"
      },
      "execution_count": null,
      "outputs": [
        {
          "output_type": "execute_result",
          "data": {
            "text/plain": [
              "Sub-Saharan Africa                 40\n",
              "Central and Eastern Europe         29\n",
              "Latin America and Caribbean        22\n",
              "Western Europe                     21\n",
              "Middle East and Northern Africa    20\n",
              "Southeastern Asia                   9\n",
              "Southern Asia                       7\n",
              "Eastern Asia                        6\n",
              "North America                       2\n",
              "Australia and New Zealand           2\n",
              "Name: Region, dtype: int64"
            ]
          },
          "metadata": {},
          "execution_count": 30
        }
      ]
    },
    {
      "cell_type": "code",
      "source": [
        "world_happiness_report_2016['Region'].value_counts()"
      ],
      "metadata": {
        "colab": {
          "base_uri": "https://localhost:8080/"
        },
        "id": "KwsVYnNDqLGQ",
        "outputId": "e5125881-9f4c-4995-9cc3-0e34028d8e02"
      },
      "execution_count": null,
      "outputs": [
        {
          "output_type": "execute_result",
          "data": {
            "text/plain": [
              "Sub-Saharan Africa                 38\n",
              "Central and Eastern Europe         29\n",
              "Latin America and Caribbean        24\n",
              "Western Europe                     21\n",
              "Middle East and Northern Africa    19\n",
              "Southeastern Asia                   9\n",
              "Southern Asia                       7\n",
              "Eastern Asia                        6\n",
              "North America                       2\n",
              "Australia and New Zealand           2\n",
              "Name: Region, dtype: int64"
            ]
          },
          "metadata": {},
          "execution_count": 31
        }
      ]
    },
    {
      "cell_type": "code",
      "source": [
        "world_happiness_report_2020['Region'].value_counts()"
      ],
      "metadata": {
        "colab": {
          "base_uri": "https://localhost:8080/"
        },
        "id": "F19K7II0qSpO",
        "outputId": "e97706ec-b073-4855-e8ea-2da15d37d7c1"
      },
      "execution_count": null,
      "outputs": [
        {
          "output_type": "execute_result",
          "data": {
            "text/plain": [
              "Sub-Saharan Africa                    39\n",
              "Western Europe                        21\n",
              "Latin America and Caribbean           21\n",
              "Middle East and North Africa          17\n",
              "Central and Eastern Europe            17\n",
              "Commonwealth of Independent States    12\n",
              "Southeast Asia                         9\n",
              "South Asia                             7\n",
              "East Asia                              6\n",
              "North America and ANZ                  4\n",
              "Name: Region, dtype: int64"
            ]
          },
          "metadata": {},
          "execution_count": 32
        }
      ]
    },
    {
      "cell_type": "code",
      "source": [
        "world_happiness_report_2020['Region'] = world_happiness_report_2020['Region'].replace(['Commonwealth of Independent States'], 'Central and Eastern Europe')\n",
        "world_happiness_report_2020['Region'] = world_happiness_report_2020['Region'].replace(['Middle East and North Africa'], 'Middle East and Northern Africa')\n",
        "world_happiness_report_2020['Region'] = world_happiness_report_2020['Region'].replace(['Southeast Asia'], 'Southeastern Asia')\n",
        "world_happiness_report_2020['Region'] = world_happiness_report_2020['Region'].replace(['South Asia'], 'Southern Asia')\n",
        "world_happiness_report_2020['Region'] = world_happiness_report_2020['Region'].replace(['East Asia'], 'Eastern Asia')"
      ],
      "metadata": {
        "id": "trz7C93urhg1"
      },
      "execution_count": null,
      "outputs": []
    },
    {
      "cell_type": "code",
      "source": [
        "world_happiness_report_2020['Region'].value_counts()"
      ],
      "metadata": {
        "colab": {
          "base_uri": "https://localhost:8080/"
        },
        "id": "2_-RL9ZGsfao",
        "outputId": "907db4b5-7730-4de8-af59-41b1ad9f5d4d"
      },
      "execution_count": null,
      "outputs": [
        {
          "output_type": "execute_result",
          "data": {
            "text/plain": [
              "Sub-Saharan Africa                 39\n",
              "Central and Eastern Europe         29\n",
              "Western Europe                     21\n",
              "Latin America and Caribbean        21\n",
              "Middle East and Northern Africa    17\n",
              "Southeastern Asia                   9\n",
              "Southern Asia                       7\n",
              "Eastern Asia                        6\n",
              "North America and ANZ               4\n",
              "Name: Region, dtype: int64"
            ]
          },
          "metadata": {},
          "execution_count": 34
        }
      ]
    },
    {
      "cell_type": "code",
      "source": [
        "world_happiness_report_2021['Region'] = world_happiness_report_2021['Region'].replace(['Commonwealth of Independent States'], 'Central and Eastern Europe')\n",
        "world_happiness_report_2021['Region'] = world_happiness_report_2021['Region'].replace(['Middle East and North Africa'], 'Middle East and Northern Africa')\n",
        "world_happiness_report_2021['Region'] = world_happiness_report_2021['Region'].replace(['Southeast Asia'], 'Southeastern Asia')\n",
        "world_happiness_report_2021['Region'] = world_happiness_report_2021['Region'].replace(['South Asia'], 'Southern Asia')\n",
        "world_happiness_report_2021['Region'] = world_happiness_report_2021['Region'].replace(['East Asia'], 'Eastern Asia')"
      ],
      "metadata": {
        "id": "AHmvi_YWsyIK"
      },
      "execution_count": null,
      "outputs": []
    },
    {
      "cell_type": "code",
      "source": [
        "world_happiness_report_2021['Region'].value_counts()"
      ],
      "metadata": {
        "colab": {
          "base_uri": "https://localhost:8080/"
        },
        "id": "X8nK9lzBs7Px",
        "outputId": "e291e298-b35d-466b-d8d7-a4a6c80dfc37"
      },
      "execution_count": null,
      "outputs": [
        {
          "output_type": "execute_result",
          "data": {
            "text/plain": [
              "Sub-Saharan Africa                 36\n",
              "Central and Eastern Europe         29\n",
              "Western Europe                     21\n",
              "Latin America and Caribbean        20\n",
              "Middle East and Northern Africa    17\n",
              "Southeastern Asia                   9\n",
              "Southern Asia                       7\n",
              "Eastern Asia                        6\n",
              "North America and ANZ               4\n",
              "Name: Region, dtype: int64"
            ]
          },
          "metadata": {},
          "execution_count": 36
        }
      ]
    },
    {
      "cell_type": "code",
      "source": [
        "world_happiness_report_2020.at[7,'Region']='Australia and New Zealand'\n",
        "world_happiness_report_2020.at[11,'Region']='Australia and New Zealand'"
      ],
      "metadata": {
        "id": "ux43tZ2ftUVf"
      },
      "execution_count": null,
      "outputs": []
    },
    {
      "cell_type": "code",
      "source": [
        "world_happiness_report_2020['Region'] = world_happiness_report_2020['Region'].replace(['North America and ANZ'], 'North America')\n",
        "world_happiness_report_2021['Region'] = world_happiness_report_2021['Region'].replace(['North America and ANZ'], 'North America')"
      ],
      "metadata": {
        "id": "WLTgJRu1to4p"
      },
      "execution_count": null,
      "outputs": []
    },
    {
      "cell_type": "code",
      "source": [
        "world_happiness_report_2021.at[8,'Region']='Australia and New Zealand'\n",
        "world_happiness_report_2021.at[10,'Region']='Australia and New Zealand'"
      ],
      "metadata": {
        "id": "5Xp1D72DuEsH"
      },
      "execution_count": null,
      "outputs": []
    },
    {
      "cell_type": "code",
      "source": [
        "world_happiness_report_2021['Region'].value_counts()"
      ],
      "metadata": {
        "colab": {
          "base_uri": "https://localhost:8080/"
        },
        "id": "jC8OKZ6huWhF",
        "outputId": "be0d23a3-0a78-4cfd-d254-95d7afa478a6"
      },
      "execution_count": null,
      "outputs": [
        {
          "output_type": "execute_result",
          "data": {
            "text/plain": [
              "Sub-Saharan Africa                 36\n",
              "Central and Eastern Europe         29\n",
              "Western Europe                     21\n",
              "Latin America and Caribbean        20\n",
              "Middle East and Northern Africa    17\n",
              "Southeastern Asia                   9\n",
              "Southern Asia                       7\n",
              "Eastern Asia                        6\n",
              "Australia and New Zealand           2\n",
              "North America                       2\n",
              "Name: Region, dtype: int64"
            ]
          },
          "metadata": {},
          "execution_count": 40
        }
      ]
    },
    {
      "cell_type": "code",
      "source": [
        "world_happiness_report_2020['Region'].value_counts()"
      ],
      "metadata": {
        "colab": {
          "base_uri": "https://localhost:8080/"
        },
        "id": "YmK03Gjynkzm",
        "outputId": "1b1f1e52-6ced-41af-cf66-88e26fb6cea4"
      },
      "execution_count": null,
      "outputs": [
        {
          "output_type": "execute_result",
          "data": {
            "text/plain": [
              "Sub-Saharan Africa                 39\n",
              "Central and Eastern Europe         29\n",
              "Western Europe                     21\n",
              "Latin America and Caribbean        21\n",
              "Middle East and Northern Africa    17\n",
              "Southeastern Asia                   9\n",
              "Southern Asia                       7\n",
              "Eastern Asia                        6\n",
              "Australia and New Zealand           2\n",
              "North America                       2\n",
              "Name: Region, dtype: int64"
            ]
          },
          "metadata": {},
          "execution_count": 41
        }
      ]
    },
    {
      "cell_type": "code",
      "source": [
        "regions_dict = world_happiness_report_2020.set_index('Country').to_dict()['Region']"
      ],
      "metadata": {
        "id": "5mf0xU1r7-_i"
      },
      "execution_count": null,
      "outputs": []
    },
    {
      "cell_type": "code",
      "source": [
        "world_happiness_report_2022['Region'] = world_happiness_report_2022['Country'].map(regions_dict)"
      ],
      "metadata": {
        "id": "SSHr5-Fj8buu"
      },
      "execution_count": null,
      "outputs": []
    },
    {
      "cell_type": "code",
      "source": [
        "world_happiness_report_2017['Region'] = world_happiness_report_2017['Country'].map(regions_dict)\n",
        "world_happiness_report_2018['Region'] = world_happiness_report_2018['Country'].map(regions_dict)\n",
        "world_happiness_report_2019['Region'] = world_happiness_report_2019['Country'].map(regions_dict)"
      ],
      "metadata": {
        "id": "MiVDafNQ-ClO"
      },
      "execution_count": null,
      "outputs": []
    },
    {
      "cell_type": "code",
      "source": [
        "!pip install xlsxwriter\n"
      ],
      "metadata": {
        "colab": {
          "base_uri": "https://localhost:8080/"
        },
        "id": "Cj8zEW8eZhtt",
        "outputId": "bc665734-4288-46a2-e115-68bbf53ec7de"
      },
      "execution_count": null,
      "outputs": [
        {
          "output_type": "stream",
          "name": "stdout",
          "text": [
            "Looking in indexes: https://pypi.org/simple, https://us-python.pkg.dev/colab-wheels/public/simple/\n",
            "Collecting xlsxwriter\n",
            "  Downloading XlsxWriter-3.0.3-py3-none-any.whl (149 kB)\n",
            "\u001b[K     |████████████████████████████████| 149 kB 11.1 MB/s \n",
            "\u001b[?25hInstalling collected packages: xlsxwriter\n",
            "Successfully installed xlsxwriter-3.0.3\n"
          ]
        }
      ]
    },
    {
      "cell_type": "code",
      "source": [
        "writer = pd.ExcelWriter('happiness_final.xlsx', engine='xlsxwriter')\n",
        "\n",
        "world_happiness_report_2015.to_excel(writer, sheet_name='2015')\n",
        "world_happiness_report_2016.to_excel(writer, sheet_name='2016')\n",
        "world_happiness_report_2017.to_excel(writer, sheet_name='2017')\n",
        "world_happiness_report_2018.to_excel(writer, sheet_name='2018')\n",
        "world_happiness_report_2019.to_excel(writer, sheet_name='2019')\n",
        "world_happiness_report_2020.to_excel(writer, sheet_name='2020')\n",
        "world_happiness_report_2021.to_excel(writer, sheet_name='2021') \n",
        "world_happiness_report_2022.to_excel(writer, sheet_name='2022')\n",
        "\n",
        "\n",
        "writer.save()"
      ],
      "metadata": {
        "id": "qd56TFwvYoGC"
      },
      "execution_count": null,
      "outputs": []
    },
    {
      "cell_type": "code",
      "source": [
        "sns.heatmap(world_happiness_report_2022.corr(),annot=True)"
      ],
      "metadata": {
        "colab": {
          "base_uri": "https://localhost:8080/",
          "height": 409
        },
        "id": "WCDZCSlswkr9",
        "outputId": "fc276dfc-faed-4ee3-b24b-0c3e4141a288"
      },
      "execution_count": null,
      "outputs": [
        {
          "output_type": "execute_result",
          "data": {
            "text/plain": [
              "<matplotlib.axes._subplots.AxesSubplot at 0x7fd0f2b8e890>"
            ]
          },
          "metadata": {},
          "execution_count": 47
        },
        {
          "output_type": "display_data",
          "data": {
            "text/plain": [
              "<Figure size 432x288 with 2 Axes>"
            ],
            "image/png": "[encoded data removed]"
          },
          "metadata": {}
        }
      ]
    },
    {
      "cell_type": "code",
      "source": [
        "sns.scatterplot(data=world_happiness_report_2015, x='Happiness Score', y='GDP per capita')"
      ],
      "metadata": {
        "colab": {
          "base_uri": "https://localhost:8080/",
          "height": 293
        },
        "id": "XrHLHhI_gU8p",
        "outputId": "fe210548-442d-4f6d-d836-90021b6f3475"
      },
      "execution_count": null,
      "outputs": [
        {
          "output_type": "execute_result",
          "data": {
            "text/plain": [
              "<matplotlib.axes._subplots.AxesSubplot at 0x7fd0ee43b4d0>"
            ]
          },
          "metadata": {},
          "execution_count": 49
        },
        {
          "output_type": "display_data",
          "data": {
            "text/plain": [
              "<Figure size 432x288 with 1 Axes>"
            ],
            "image/png": "[encoded data removed]"
          },
          "metadata": {}
        }
      ]
    },
    {
      "cell_type": "code",
      "source": [
        "sns.scatterplot(data=world_happiness_report_2015, x='Happiness Score', y='Family')"
      ],
      "metadata": {
        "id": "rGaF7iDS-4-p",
        "colab": {
          "base_uri": "https://localhost:8080/",
          "height": 293
        },
        "outputId": "db7c830d-4abc-415f-9ad3-ad8bc7b6f45f"
      },
      "execution_count": null,
      "outputs": [
        {
          "output_type": "execute_result",
          "data": {
            "text/plain": [
              "<matplotlib.axes._subplots.AxesSubplot at 0x7fd0ee2cb210>"
            ]
          },
          "metadata": {},
          "execution_count": 50
        },
        {
          "output_type": "display_data",
          "data": {
            "text/plain": [
              "<Figure size 432x288 with 1 Axes>"
            ],
            "image/png": "[encoded data removed]"
          },
          "metadata": {}
        }
      ]
    },
    {
      "cell_type": "code",
      "source": [
        "sns.scatterplot(data=world_happiness_report_2015, x='Happiness Score', y='Life expectancy')"
      ],
      "metadata": {
        "colab": {
          "base_uri": "https://localhost:8080/",
          "height": 293
        },
        "id": "59mSMA1ypUhE",
        "outputId": "6199a4a2-ed0d-472e-87d7-c9a79bd46dd5"
      },
      "execution_count": null,
      "outputs": [
        {
          "output_type": "execute_result",
          "data": {
            "text/plain": [
              "<matplotlib.axes._subplots.AxesSubplot at 0x7fd0ee2bce10>"
            ]
          },
          "metadata": {},
          "execution_count": 52
        },
        {
          "output_type": "display_data",
          "data": {
            "text/plain": [
              "<Figure size 432x288 with 1 Axes>"
            ],
            "image/png": "[encoded data removed]"
          },
          "metadata": {}
        }
      ]
    },
    {
      "cell_type": "code",
      "source": [
        "sns.scatterplot(data=world_happiness_report_2015, x='Happiness Score', y='Freedom')"
      ],
      "metadata": {
        "colab": {
          "base_uri": "https://localhost:8080/",
          "height": 296
        },
        "id": "boqCgP8opbQB",
        "outputId": "58dc8fed-58d0-4836-d123-c4b60d9f8263"
      },
      "execution_count": null,
      "outputs": [
        {
          "output_type": "execute_result",
          "data": {
            "text/plain": [
              "<matplotlib.axes._subplots.AxesSubplot at 0x7fd0ee2a9390>"
            ]
          },
          "metadata": {},
          "execution_count": 53
        },
        {
          "output_type": "display_data",
          "data": {
            "text/plain": [
              "<Figure size 432x288 with 1 Axes>"
            ],
            "image/png": "[encoded data removed]"
          },
          "metadata": {}
        }
      ]
    }
  ]
}